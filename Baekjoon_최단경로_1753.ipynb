{
 "cells": [
  {
   "cell_type": "code",
   "execution_count": null,
   "id": "b1e24f08",
   "metadata": {},
   "outputs": [],
   "source": [
    "import heapq\n",
    "\n",
    "# 정점 개수 v, 간선 개수 e\n",
    "v,e = map(int,input().split(' '))\n",
    "\n",
    "# 시작점 k\n",
    "k = int(input())\n",
    "\n",
    "# 무한 INF\n",
    "INF = int(1e9)\n",
    "\n",
    "# 그래프 초기화 (각 정점의 상태를 넣기 위한)\n",
    "graph = [[]*(v+1) for _ in range(v+1)]\n",
    "\n",
    "# 거리 초기화 (시작점(k)으로 부터 각 정점(1~v)까지의 *최단거리를 저장하기 위한)\n",
    "distance = [INF] * (v+1)\n",
    "\n",
    "# 그래프에 간선 정보 입력 (각 점(a)에서 이동 할 수 있는 점(b)과 가중치(c))\n",
    "for _ in range(e):\n",
    "    a, b, c = map(int, input().split())\n",
    "    # a->b까지 c비용\n",
    "    graph[a].append((b, c))\n",
    "\n",
    "def shortest(start):\n",
    "    q = []\n",
    "    # 시작 노드로 가기 위한 최단 경로는 0으로 설정하여, 큐에 삽입\n",
    "    heapq.heappush(q, (0, start))\n",
    "    distance[start] = 0\n",
    "\n",
    "    while q:\n",
    "        # 가장 최단 거리가 짧은 노드에 대한 정보 꺼내기\n",
    "        dist, now = heapq.heappop(q)\n",
    "        # 현재 노드가 이미 처리된 적이 있는 노드라면 무시\n",
    "        if distance[now] < dist:\n",
    "            continue\n",
    "        # 현재 노드와 연결된 다른 인접한 노드들을 확인\n",
    "        for i in graph[now]:\n",
    "            cost = dist + i[1]\n",
    "            # 현재 노드를 거쳐서, 다른 노드로 이동하는 거리가 더 짧은 경우\n",
    "            if cost < distance[i[0]]:\n",
    "                distance[i[0]] = cost\n",
    "                heapq.heappush(q, (cost, i[0]))\n",
    "                \n",
    "                \n",
    "shortest(k)\n",
    "\n",
    "# 모든 노드로 가기 위한 최단 거리를 출력\n",
    "for i in range(1, v+1):\n",
    "    if distance[i] == INF:\n",
    "        print(\"INF\")\n",
    "    else:\n",
    "        print(distance[i])"
   ]
  }
 ],
 "metadata": {
  "kernelspec": {
   "display_name": "Python 3",
   "language": "python",
   "name": "python3"
  },
  "language_info": {
   "codemirror_mode": {
    "name": "ipython",
    "version": 3
   },
   "file_extension": ".py",
   "mimetype": "text/x-python",
   "name": "python",
   "nbconvert_exporter": "python",
   "pygments_lexer": "ipython3",
   "version": "3.8.0"
  }
 },
 "nbformat": 4,
 "nbformat_minor": 5
}
