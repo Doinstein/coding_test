{
 "cells": [
  {
   "cell_type": "code",
   "execution_count": null,
   "id": "1b0d60e1",
   "metadata": {},
   "outputs": [],
   "source": [
    "#  https://www.acmicpc.net/problem/12015"
   ]
  },
  {
   "cell_type": "code",
   "execution_count": null,
   "id": "0b238883",
   "metadata": {},
   "outputs": [],
   "source": [
    "# 가장 긴 증가하는 수열 길이 - x가 커도 이분탐색으로 시간 단축\n",
    "from bisect import bisect_left, bisect_right\n",
    "x = int(input())\n",
    "y = list(map(int,input().split(' ')))\n",
    "\n",
    "dp = [y[0]]  # 초기 값\n",
    "\n",
    "for i in range(x):  # x개 비교\n",
    "    #print(i)\n",
    "    if y[i] > dp[-1]:  # (y의 i번째 숫자)가 dp의 마지막 숫자보다 큰 경우\n",
    "        dp.append(y[i])  # dp에 추가\n",
    "    else:  # (y의 i번째 숫자)가 dp의 마지막 숫자보다 작거나 같은 경우\n",
    "        idx = bisect_left(dp, y[i])  # dp에서 (y의 i번째 숫자)보다 큰 숫자의 이전 인덱스 \n",
    "        dp[idx] = y[i]  \n",
    "    print(dp)\n",
    "\n",
    "print(len(dp))"
   ]
  },
  {
   "cell_type": "code",
   "execution_count": null,
   "id": "c2f1a363",
   "metadata": {},
   "outputs": [],
   "source": [
    "# 가장 긴 증가하는 수열 - x가 클 수록 시간이 오래걸린다(시간초과)\n",
    "x = int(input())\n",
    "arr = list(map(int, input().split()))\n",
    "\n",
    "dp = [1 for i in range(x)]\n",
    "\n",
    "for i in range(x):\n",
    "    for j in range(i):\n",
    "        if arr[i] > arr[j]:\n",
    "            dp[i] = max(dp[i], dp[j] + 1)\n",
    "\n",
    "print(max(dp))"
   ]
  }
 ],
 "metadata": {
  "kernelspec": {
   "display_name": "Python 3",
   "language": "python",
   "name": "python3"
  },
  "language_info": {
   "codemirror_mode": {
    "name": "ipython",
    "version": 3
   },
   "file_extension": ".py",
   "mimetype": "text/x-python",
   "name": "python",
   "nbconvert_exporter": "python",
   "pygments_lexer": "ipython3",
   "version": "3.8.0"
  }
 },
 "nbformat": 4,
 "nbformat_minor": 5
}
