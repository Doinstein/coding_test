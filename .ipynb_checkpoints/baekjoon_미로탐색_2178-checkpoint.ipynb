{
 "cells": [
  {
   "cell_type": "code",
   "execution_count": null,
   "id": "f478f348",
   "metadata": {},
   "outputs": [],
   "source": [
    "# https://www.acmicpc.net/problem/2178"
   ]
  },
  {
   "cell_type": "code",
   "execution_count": null,
   "id": "7c0d8603",
   "metadata": {},
   "outputs": [],
   "source": [
    "from collections import deque\n",
    "\n",
    "n,m = map(int,input().split(' '))  # 행,열\n",
    "maps = []  # 맵\n",
    "for _ in range(n):  # 맵 생성\n",
    "    maps.append(input()) \n",
    "\n",
    "x,y = 0,0  # 처음 위치\n",
    "visited = [[True for _ in range(m)] for _ in range(n)]  # 왔던 길을 돌아 가지 않기 위해 방문체크\n",
    "distance = {(x,y):1}  # 좌표까지 거리\n",
    "\n",
    "dx = [-1,1,0,0]  # 행 이동\n",
    "dy = [0,0,-1,1]  # 열 이동\n",
    "queue = deque([(x,y)])  # 현재 위치 출력을 위한 queue\n",
    "visited[x][y] = False  # 처음 위치 방문체크\n",
    "\n",
    "while queue: # queue에 이동할 값이 안들어오면 종료\n",
    "    x,y = queue.popleft()  # queue에서 현재 위치 출력\n",
    "    for i in range(4):  # 4방향 이동 경우의 수\n",
    "        nx = x+dx[i]  # 좌,우\n",
    "        ny = y+dy[i]  # 아래,위\n",
    "        if 0<=nx<n and 0<=ny<m and visited[nx][ny] and maps[nx][ny] == '1':  # 다음 위치가 MAP을 벗어나지 않고(N.M) 방문하지 않았고(True) 길(1)인 경우\n",
    "            if (nx,ny) == (n-1,m-1): print(distance[(x,y)]+1)  # 다음 칸이 도착지점(n-1,m-1)이면 현재좌표(x,y) 거리 +1\n",
    "            queue.append((nx,ny))  # 다음 위치 queue에 추가\n",
    "            distance[(nx,ny)] = distance[(x,y)]+1  # 다음 위치(nx,ny)의 거리는 현재위치(x,y)의 거리 +1\n",
    "            visited[nx][ny] = False  # 다음 위치 방문체크"
   ]
  }
 ],
 "metadata": {
  "kernelspec": {
   "display_name": "Python 3",
   "language": "python",
   "name": "python3"
  },
  "language_info": {
   "codemirror_mode": {
    "name": "ipython",
    "version": 3
   },
   "file_extension": ".py",
   "mimetype": "text/x-python",
   "name": "python",
   "nbconvert_exporter": "python",
   "pygments_lexer": "ipython3",
   "version": "3.8.0"
  }
 },
 "nbformat": 4,
 "nbformat_minor": 5
}
