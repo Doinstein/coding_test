{
 "cells": [
  {
   "cell_type": "code",
   "execution_count": null,
   "id": "b64d90de",
   "metadata": {},
   "outputs": [],
   "source": [
    "from collections import deque\n",
    "\n",
    "n,m = map(int,input().split(' '))\n",
    "maps = []\n",
    "for _ in range(n):\n",
    "    maps.append(input())\n",
    "\n",
    "x,y = 0,0\n",
    "visited = [[True for _ in range(m)] for _ in range(n)]\n",
    "distance = {(x,y):1}\n",
    "\n",
    "dx = [-1,1,0,0]\n",
    "dy = [0,0,-1,1]\n",
    "queue = deque([(x,y)])\n",
    "visited[x][y] = False\n",
    "\n",
    "end = 0\n",
    "while queue:\n",
    "    x,y = queue.popleft()\n",
    "    for i in range(4):\n",
    "        nx = x+dx[i]\n",
    "        ny = y+dy[i]\n",
    "        if 0<=nx<n and 0<=ny<m and visited[nx][ny] and maps[nx][ny] == '1':\n",
    "            if (nx,ny) == (n-1,m-1):\n",
    "                print(distance[(x,y)]+1)\n",
    "                end = 1\n",
    "                break\n",
    "            queue.append((nx,ny))\n",
    "            distance[(nx,ny)] = distance[(x,y)]+1\n",
    "            visited[nx][ny] = False\n",
    "    if end == 1:\n",
    "        break"
   ]
  }
 ],
 "metadata": {
  "kernelspec": {
   "display_name": "Python 3",
   "language": "python",
   "name": "python3"
  },
  "language_info": {
   "codemirror_mode": {
    "name": "ipython",
    "version": 3
   },
   "file_extension": ".py",
   "mimetype": "text/x-python",
   "name": "python",
   "nbconvert_exporter": "python",
   "pygments_lexer": "ipython3",
   "version": "3.8.0"
  }
 },
 "nbformat": 4,
 "nbformat_minor": 5
}
