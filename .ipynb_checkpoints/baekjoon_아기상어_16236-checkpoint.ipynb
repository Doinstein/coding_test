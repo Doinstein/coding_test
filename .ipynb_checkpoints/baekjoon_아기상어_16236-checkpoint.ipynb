{
 "cells": [
  {
   "cell_type": "code",
   "execution_count": null,
   "id": "0b76ce1a",
   "metadata": {},
   "outputs": [],
   "source": [
    "# https://www.acmicpc.net/problem/16236"
   ]
  },
  {
   "cell_type": "code",
   "execution_count": 49,
   "id": "299d922c",
   "metadata": {},
   "outputs": [],
   "source": [
    "from collections import deque"
   ]
  },
  {
   "cell_type": "code",
   "execution_count": 24,
   "id": "dfc02eb4",
   "metadata": {},
   "outputs": [
    {
     "name": "stdout",
     "output_type": "stream",
     "text": [
      "3\n",
      "0 0 0\n",
      "0 0 1\n",
      "0 9 0\n"
     ]
    }
   ],
   "source": [
    "N = []\n",
    "for _ in range(int(input())): # 공간 크기\n",
    "    N.append(list(map(int, input().split(' '))))\n",
    "\n",
    "A = 2 # 아기 상어 크기\n",
    "for i in range(len(N)):\n",
    "    if 9 in N[i]:\n",
    "        A1 = (i,N[i].index(9)) # 아기상어 위치\n",
    "N[A1[0]][A1[1]] = 0 # 아기상어 초기 위치 0으로 변경\n",
    "\n",
    "time = 0 # 시간 초기화\n",
    "dx = (-1,1,0,0) # 행 이동\n",
    "dy = (0,0,-1,1) # 열 이동\n",
    "queue = deque([(A1)])\n",
    "distance = \n",
    "\n",
    "while queue:\n",
    "    x,y = queue.popleft()\n",
    "    for i in range(4):\n",
    "        if 0 < (nx + dx[i]) <= len(N) and 0 < (ny + dy[i]) <= len(N) and N[nx + dx[i]][ny + dy[i]] <= A:\n",
    "            if N[nx + dx[i]][ny + dy[i]] < A: N[nx + dx[i]][ny + dy[i]] = 0\n",
    "            time += 1\n",
    "            nx = nx + dx[i]\n",
    "            ny = ny + dy[i]\n",
    "    y = False\n",
    "    break"
   ]
  },
  {
   "cell_type": "code",
   "execution_count": 48,
   "id": "dad2827e",
   "metadata": {},
   "outputs": [
    {
     "name": "stdout",
     "output_type": "stream",
     "text": [
      "1\n"
     ]
    }
   ],
   "source": [
    "for i in range(1,A+1):\n",
    "    if i in sum(N,[]):\n",
    "        continue\n",
    "    print(1)"
   ]
  }
 ],
 "metadata": {
  "kernelspec": {
   "display_name": "Python 3",
   "language": "python",
   "name": "python3"
  },
  "language_info": {
   "codemirror_mode": {
    "name": "ipython",
    "version": 3
   },
   "file_extension": ".py",
   "mimetype": "text/x-python",
   "name": "python",
   "nbconvert_exporter": "python",
   "pygments_lexer": "ipython3",
   "version": "3.8.0"
  }
 },
 "nbformat": 4,
 "nbformat_minor": 5
}
