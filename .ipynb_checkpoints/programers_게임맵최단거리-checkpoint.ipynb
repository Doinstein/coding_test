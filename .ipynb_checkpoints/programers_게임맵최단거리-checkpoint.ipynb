{
 "cells": [
  {
   "cell_type": "code",
   "execution_count": 107,
   "id": "6b3f2301",
   "metadata": {},
   "outputs": [],
   "source": [
    "from collections import deque\n",
    "\n",
    "def solution(maps):\n",
    "    n,m = len(maps), len(maps[0])\n",
    "    visited = [[False for _ in range(m)] for _ in range(n)]\n",
    "    return bfs(maps, 0,0, visited)\n",
    "\n",
    "\n",
    "def bfs(maps, x,y, visited):\n",
    "    n,m = len(maps), len(maps[0])\n",
    "    queue = deque([(x,y)])\n",
    "    visited[x][y] = True\n",
    "    distance = {(x,y):0}\n",
    "    dx = [-1,1,0,0]\n",
    "    dy = [0,0,-1,1]\n",
    "    while queue:\n",
    "        x,y = queue.popleft()\n",
    "        for i in range(4):\n",
    "            nx = x + dx[i]\n",
    "            ny = y + dy[i]\n",
    "            if 0 <= nx < n and 0 <= ny < m and not visited[nx][ny] and maps[nx][ny] == 1:\n",
    "                if (nx,ny) == (n-1,m-1): return distance[(x,y)] + 2\n",
    "                queue.append((nx,ny))\n",
    "                visited[nx][ny] = True\n",
    "                distance[(nx,ny)] = distance[(x,y)]+1\n",
    "    return -1\n",
    "                "
   ]
  },
  {
   "cell_type": "code",
   "execution_count": null,
   "id": "488ebbda",
   "metadata": {},
   "outputs": [],
   "source": []
  },
  {
   "cell_type": "code",
   "execution_count": null,
   "id": "02cef85b",
   "metadata": {},
   "outputs": [],
   "source": []
  },
  {
   "cell_type": "code",
   "execution_count": null,
   "id": "5729e33a",
   "metadata": {},
   "outputs": [],
   "source": []
  }
 ],
 "metadata": {
  "kernelspec": {
   "display_name": "Python 3",
   "language": "python",
   "name": "python3"
  },
  "language_info": {
   "codemirror_mode": {
    "name": "ipython",
    "version": 3
   },
   "file_extension": ".py",
   "mimetype": "text/x-python",
   "name": "python",
   "nbconvert_exporter": "python",
   "pygments_lexer": "ipython3",
   "version": "3.8.0"
  }
 },
 "nbformat": 4,
 "nbformat_minor": 5
}
