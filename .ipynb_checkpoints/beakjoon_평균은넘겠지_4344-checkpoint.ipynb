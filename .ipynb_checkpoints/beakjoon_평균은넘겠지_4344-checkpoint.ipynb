{
 "cells": [
  {
   "cell_type": "code",
   "execution_count": null,
   "id": "77cbc3a3",
   "metadata": {},
   "outputs": [],
   "source": [
    "# https://www.acmicpc.net/problem/4344"
   ]
  },
  {
   "cell_type": "code",
   "execution_count": null,
   "id": "79f48d3a",
   "metadata": {},
   "outputs": [],
   "source": [
    "for _ in range(int(input())):\n",
    "    n = list(map(int,input().split(' ')))\n",
    "    m_mean = (sum(n[1:])/n[0])\n",
    "    cnt = 0\n",
    "    for i in n[1:]:\n",
    "        if i > m_mean:\n",
    "            cnt += 1\n",
    "    per = (cnt/n[0])*100\n",
    "    print(f'{per:.3f}%')"
   ]
  }
 ],
 "metadata": {
  "kernelspec": {
   "display_name": "Python 3",
   "language": "python",
   "name": "python3"
  },
  "language_info": {
   "codemirror_mode": {
    "name": "ipython",
    "version": 3
   },
   "file_extension": ".py",
   "mimetype": "text/x-python",
   "name": "python",
   "nbconvert_exporter": "python",
   "pygments_lexer": "ipython3",
   "version": "3.8.0"
  }
 },
 "nbformat": 4,
 "nbformat_minor": 5
}
