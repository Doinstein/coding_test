{
 "cells": [
  {
   "cell_type": "code",
   "execution_count": null,
   "id": "bd4e4a54",
   "metadata": {},
   "outputs": [],
   "source": [
    "# https://www.acmicpc.net/problem/1546"
   ]
  },
  {
   "cell_type": "code",
   "execution_count": null,
   "id": "40fa885c",
   "metadata": {},
   "outputs": [],
   "source": [
    "n = int(input())\n",
    "sub_list = list(map(int, input().split(' ')))\n",
    "m = max(sub_list)\n",
    "print(sum((map(lambda x: (x/m)*100, sub_list)))/n)"
   ]
  }
 ],
 "metadata": {
  "kernelspec": {
   "display_name": "Python 3",
   "language": "python",
   "name": "python3"
  },
  "language_info": {
   "codemirror_mode": {
    "name": "ipython",
    "version": 3
   },
   "file_extension": ".py",
   "mimetype": "text/x-python",
   "name": "python",
   "nbconvert_exporter": "python",
   "pygments_lexer": "ipython3",
   "version": "3.8.0"
  }
 },
 "nbformat": 4,
 "nbformat_minor": 5
}
