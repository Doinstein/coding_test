{
 "cells": [
  {
   "cell_type": "code",
   "execution_count": null,
   "id": "d3cfca49",
   "metadata": {},
   "outputs": [],
   "source": [
    "#https://www.acmicpc.net/problem/1110"
   ]
  },
  {
   "cell_type": "code",
   "execution_count": null,
   "id": "abd1c662",
   "metadata": {},
   "outputs": [],
   "source": [
    "N = int(input())\n",
    "stack = 0\n",
    "x = N\n",
    "\n",
    "y = True\n",
    "while y:\n",
    "    x = int(\n",
    "        str(x%10)+str((int(x//10)+(x%10))%10)\n",
    "    )\n",
    "    stack += 1\n",
    "    if x == N:\n",
    "        y = False\n",
    "print(stack)"
   ]
  }
 ],
 "metadata": {
  "kernelspec": {
   "display_name": "Python 3",
   "language": "python",
   "name": "python3"
  },
  "language_info": {
   "codemirror_mode": {
    "name": "ipython",
    "version": 3
   },
   "file_extension": ".py",
   "mimetype": "text/x-python",
   "name": "python",
   "nbconvert_exporter": "python",
   "pygments_lexer": "ipython3",
   "version": "3.8.0"
  }
 },
 "nbformat": 4,
 "nbformat_minor": 5
}
