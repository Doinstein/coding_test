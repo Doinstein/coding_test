{
 "cells": [
  {
   "cell_type": "code",
   "execution_count": null,
   "id": "bb10c9df",
   "metadata": {},
   "outputs": [],
   "source": [
    "# https://www.acmicpc.net/problem/1080"
   ]
  },
  {
   "cell_type": "code",
   "execution_count": null,
   "id": "25e3b559",
   "metadata": {},
   "outputs": [],
   "source": [
    "n,m = map(int,input().split(' '))  # 행,열\n",
    "#q = list(map(lambda x: list(map(int,x)),input().split(' ')))\n",
    "#a,b = q[:n],q[n:]\n",
    "a = [list(map(int,input())) for _ in range(n)]  # 행렬A\n",
    "b = [list(map(int,input())) for _ in range(n)]  # 행렬B\n",
    "cnt = 0  # 변환 횟수\n",
    "\n",
    "def check(r,c):  # 변환 함수\n",
    "    for i in range(r,r+3):  # r행부터 3칸\n",
    "        for j in range(c,c+3):  # c행부터 3칸\n",
    "            if a[i][j] == 0:  # 0이면 1로 변환\n",
    "                a[i][j] = 1\n",
    "            else:\n",
    "                a[i][j] = 0  # 0으로 변환\n",
    "    \n",
    "if (n < 3 or m < 3) and a != b:  # 행렬이 3x3크기보다 작은 경우 뒤집을 수 없기 때문에 행렬 A,B 다른 경우\n",
    "    cnt = -1  # -1\n",
    "else:\n",
    "    for r in range(n-2):  # r(행)+3이 행크기(n)를 넘어가지 않는 위치까지\n",
    "        for c in range(m-2):  # c(열)+3이 열크기(m)를 넘어가지 않는 위치까지\n",
    "            if a[r][c] != b[r][c]:  # 해당 행렬의 값이 다른 경우\n",
    "                check(r, c)  # 변환 함수 실행\n",
    "                cnt += 1  # 변환 횟수 1 증가\n",
    "                \n",
    "if a != b:  # 모든 변환 이후 행렬 A,B가 다른 경우\n",
    "    cnt = -1  # 행렬 A를 B로 바꿀 수 없기 때문에 -1\n",
    "\n",
    "print(cnt) # 변환 횟수 출력"
   ]
  }
 ],
 "metadata": {
  "kernelspec": {
   "display_name": "Python 3",
   "language": "python",
   "name": "python3"
  },
  "language_info": {
   "codemirror_mode": {
    "name": "ipython",
    "version": 3
   },
   "file_extension": ".py",
   "mimetype": "text/x-python",
   "name": "python",
   "nbconvert_exporter": "python",
   "pygments_lexer": "ipython3",
   "version": "3.8.0"
  }
 },
 "nbformat": 4,
 "nbformat_minor": 5
}
