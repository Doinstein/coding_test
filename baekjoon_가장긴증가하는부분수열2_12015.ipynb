{
 "cells": [
  {
   "cell_type": "code",
   "execution_count": 17,
   "id": "56dbf387",
   "metadata": {},
   "outputs": [
    {
     "name": "stdout",
     "output_type": "stream",
     "text": [
      "7\n",
      "1 7 3 2 5 10 3\n",
      "0\n",
      "[1]\n",
      "1\n",
      "[1, 7]\n",
      "2\n",
      "[1, 3]\n",
      "3\n",
      "[1, 2]\n",
      "4\n",
      "[1, 2, 5]\n",
      "5\n",
      "[1, 2, 5, 10]\n",
      "6\n",
      "[1, 2, 3, 10]\n",
      "[1, 2, 3, 10]\n"
     ]
    }
   ],
   "source": [
    "# 가장 긴 증가하는 수열 길이 - x가 커도 이분탐색으로 시간 단축\n",
    "import bisect\n",
    "x = int(input())\n",
    "y = list(map(int,input().split(' ')))\n",
    "\n",
    "dp = [y[0]]\n",
    "\n",
    "for i in range(x):\n",
    "    print(i)\n",
    "    if y[i] > dp[-1]:\n",
    "        dp.append(y[i])\n",
    "    else:\n",
    "        idx = bisect.bisect_left(dp, y[i])\n",
    "        dp[idx] = y[i]\n",
    "    print(dp)\n",
    "\n",
    "print(dp)"
   ]
  },
  {
   "cell_type": "code",
   "execution_count": null,
   "id": "051746eb",
   "metadata": {},
   "outputs": [],
   "source": []
  },
  {
   "cell_type": "code",
   "execution_count": 21,
   "id": "cb1b8a8f",
   "metadata": {},
   "outputs": [
    {
     "name": "stdout",
     "output_type": "stream",
     "text": [
      "7\n",
      "1 7 3 2 5 10 3\n",
      "4\n"
     ]
    }
   ],
   "source": [
    "# 가장 긴 증가하는 수열 - x가 클 수록 시간이 오래걸린다\n",
    "x = int(input())\n",
    "arr = list(map(int, input().split()))\n",
    "\n",
    "dp = [1 for i in range(x)]\n",
    "\n",
    "for i in range(x):\n",
    "    for j in range(i):\n",
    "        if arr[i] > arr[j]:\n",
    "            dp[i] = max(dp[i], dp[j] + 1)\n",
    "\n",
    "print(max(dp))"
   ]
  },
  {
   "cell_type": "code",
   "execution_count": 31,
   "id": "70d71eac",
   "metadata": {},
   "outputs": [
    {
     "name": "stdout",
     "output_type": "stream",
     "text": [
      "4\n",
      "[1, 2, 5, 10]\n"
     ]
    }
   ],
   "source": [
    "max_dp = max(dp)\n",
    "print(max_dp)\n",
    "\n",
    "max_idx = dp.index(max_dp)\n",
    "lis = []\n",
    "\n",
    "while max_idx >= 0:\n",
    "    if dp[max_idx] == max_dp:\n",
    "        lis.append(arr[max_idx])\n",
    "        max_dp -= 1\n",
    "    max_idx -= 1\n",
    "\n",
    "lis.reverse()\n",
    "print(lis)"
   ]
  }
 ],
 "metadata": {
  "kernelspec": {
   "display_name": "Python 3",
   "language": "python",
   "name": "python3"
  },
  "language_info": {
   "codemirror_mode": {
    "name": "ipython",
    "version": 3
   },
   "file_extension": ".py",
   "mimetype": "text/x-python",
   "name": "python",
   "nbconvert_exporter": "python",
   "pygments_lexer": "ipython3",
   "version": "3.8.0"
  }
 },
 "nbformat": 4,
 "nbformat_minor": 5
}
