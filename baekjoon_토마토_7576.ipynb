{
 "cells": [
  {
   "cell_type": "code",
   "execution_count": null,
   "id": "ed2e36c7",
   "metadata": {},
   "outputs": [],
   "source": [
    "# https://www.acmicpc.net/problem/7576"
   ]
  },
  {
   "cell_type": "code",
   "execution_count": null,
   "id": "50c5bf3a",
   "metadata": {},
   "outputs": [],
   "source": [
    "# bfs 문제는 시간복잡도를 줄이기 위해 deque 사용\n",
    "from collections import deque\n",
    "\n",
    "M,N = map(int,input().split(' '))  # 열,행\n",
    "matrix = [list(map(int,input().split(' '))) for _ in range(N)]  # 토마토 창고 생성\n",
    "queue = deque([])  # queue 생성\n",
    "\n",
    "for i in range(N):  \n",
    "    for j in range(M):\n",
    "        if matrix[i][j] == 1:  # 토마토 창고에서 익은 토마토(1) 위치 queue에 저장\n",
    "            queue.append((i,j))\n",
    "\n",
    "dx = [-1,1,0,0]  # 행 이동(하,상)\n",
    "dy = [0,0,-1,1]  # 열 이동(좌,우)\n",
    "\n",
    "while queue:\n",
    "    x,y = queue.popleft()  # queue에서 익은 토마토 위치 출력\n",
    "    for i in range(4):  # 상하좌우로 탐색\n",
    "        nx = x+dx[i]\n",
    "        ny = y+dy[i]\n",
    "        if 0<=nx<N and 0<=ny<M and matrix[nx][ny]==0:  # 이동한 좌표가 창고 크기 범위 내인지, 해당 좌표에 안익은 토마토가 있는지\n",
    "            matrix[nx][ny] = L[x][y]+1  # 안익은 토마토가 있으면 이전 좌표 + 1(해당 숫자만큼 시간 소요)\n",
    "            queue.append((nx,ny))  # 이동한 현재 좌표를 queue에 저장\n",
    "\n",
    "#if 0 in sum(L,[]): print(-1)  # 시간초과에러\n",
    "#else: print(max(sum(L,[]))-1)\n",
    "    \n",
    "if any(0 in r for r in matrix):  # 창고에 안익은 토마토(0)가 있으면 -1 출력\n",
    "    print(-1)\n",
    "else:\n",
    "    print(max([max(r) for r in matrix]) - 1)  # 1부터 시작했기 때문에 가장 큰 숫자(소요된 시간) -1 출력"
   ]
  }
 ],
 "metadata": {
  "kernelspec": {
   "display_name": "Python 3",
   "language": "python",
   "name": "python3"
  },
  "language_info": {
   "codemirror_mode": {
    "name": "ipython",
    "version": 3
   },
   "file_extension": ".py",
   "mimetype": "text/x-python",
   "name": "python",
   "nbconvert_exporter": "python",
   "pygments_lexer": "ipython3",
   "version": "3.8.0"
  }
 },
 "nbformat": 4,
 "nbformat_minor": 5
}
