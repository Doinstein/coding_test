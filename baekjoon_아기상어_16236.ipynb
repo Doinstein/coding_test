{
 "cells": [
  {
   "cell_type": "code",
   "execution_count": null,
   "id": "3ca3af21",
   "metadata": {},
   "outputs": [],
   "source": [
    "# https://www.acmicpc.net/problem/16236"
   ]
  },
  {
   "cell_type": "code",
   "execution_count": 12,
   "id": "2f16ee23",
   "metadata": {},
   "outputs": [],
   "source": [
    "q = []"
   ]
  },
  {
   "cell_type": "code",
   "execution_count": 23,
   "id": "ae8bfc06",
   "metadata": {},
   "outputs": [],
   "source": [
    "heappush(q, (1,2,3))"
   ]
  },
  {
   "cell_type": "code",
   "execution_count": 25,
   "id": "bb9e66bd",
   "metadata": {},
   "outputs": [
    {
     "ename": "NameError",
     "evalue": "name 'heapq' is not defined",
     "output_type": "error",
     "traceback": [
      "\u001b[0;31m---------------------------------------------------------------------------\u001b[0m",
      "\u001b[0;31mNameError\u001b[0m                                 Traceback (most recent call last)",
      "\u001b[0;32m<ipython-input-25-4a18f85b1392>\u001b[0m in \u001b[0;36m<module>\u001b[0;34m\u001b[0m\n\u001b[0;32m----> 1\u001b[0;31m \u001b[0mheapq\u001b[0m\u001b[0;34m.\u001b[0m\u001b[0mpop\u001b[0m\u001b[0;34m(\u001b[0m\u001b[0;34m)\u001b[0m\u001b[0;34m\u001b[0m\u001b[0;34m\u001b[0m\u001b[0m\n\u001b[0m",
      "\u001b[0;31mNameError\u001b[0m: name 'heapq' is not defined"
     ]
    }
   ],
   "source": [
    "heapq.pop()"
   ]
  },
  {
   "cell_type": "code",
   "execution_count": null,
   "id": "daf25099",
   "metadata": {},
   "outputs": [],
   "source": [
    "from heapq import heappush, heappop\n",
    "\n",
    "N = [list(map(int, input().split())) for _ in range(int(input()))]  # 공간\n",
    "q = []  # 힙 리스트\n",
    "\n",
    "def init():  # 상어 처음 위치 탐색\n",
    "    for i in range(n):\n",
    "        if 9 in a[i]:\n",
    "            heappush(q, (0, i, N[i].index(9)))  # 상어 위치 정보\n",
    "            N[i][N[i].index(9)] = 0  # 상어 위치 값 0으로 변경\n",
    "            return\n",
    "        \n",
    "def bfs():\n",
    "    size, eat, dist = 2,0,0  # 아기 상어 크기, 먹은 횟수, 이동거리(시간)\n",
    "    visited = [[False]*len(N) for _ in range(len(N))]\n",
    "    dx = (0,-1,1,0) # 행 이동\n",
    "    dy = (1,0,0,-1) # 열 이동\n",
    "\n",
    "    while q:\n",
    "        d,x,y = heappop(q)\n",
    "        if \n",
    "        \n",
    "        for i in range(4):  # 상-좌-우-하 순으로 탐색\n",
    "            nx = x + dx[i]\n",
    "            ny = y + dy[i]\n",
    "            nd = d += 1\n",
    "            if 0 <= nx < len(N) or 0 <= ny < len(N) or 0 < N[nx][ny] >= size or visited[nx][ny]:\n",
    "                continue\n",
    "            visited[nx][ny] = True\n",
    "            heappush(q,(nd,nx,ny))\n",
    "    print(ans)"
   ]
  },
  {
   "cell_type": "code",
   "execution_count": null,
   "id": "43f8bb4d",
   "metadata": {},
   "outputs": [],
   "source": [
    "from heapq import heappush, heappop\n",
    "\n",
    "n = int(input())  # 공간크기\n",
    "a = [list(map(int, input().split())) for _ in range(n)]  # 공간정보\n",
    "q = []  # 힙 리스트 \n",
    "\n",
    "def init():  # 상어 처음 위치 탐색\n",
    "    for i in range(n):\n",
    "        if 9 in a[i]:\n",
    "            heappush(q, (0, i, a[i].index(9)))  # 상어 위치 정보\n",
    "            a[i][a[i].index(9)] = 0  # 상어 위치 값 0으로 변경\n",
    "            return\n",
    "\n",
    "def bfs():\n",
    "    body, eat, ans = 2, 0, 0  # 상어크기, 먹은 횟수, 시간\n",
    "    visited = [[False]*n for _ in range(n)]  # 최소 시간을 구하기 위해 방문했던 장소는 다시 가지 않기\n",
    "    while q:\n",
    "        d, x, y = heappop(q)  # \n",
    "        if 0 < a[x][y] < body:\n",
    "            eat += 1\n",
    "            a[x][y] = 0\n",
    "            if eat == body:\n",
    "                body += 1\n",
    "                eat = 0\n",
    "            ans += d\n",
    "            d = 0\n",
    "            while q:\n",
    "                q.pop()\n",
    "            visited = [[False]*n for _ in range(n)]\n",
    "        for dx, dy in (-1, 0), (0, -1), (1, 0), (0, 1):\n",
    "            nd, nx, ny = d+1, x+dx, y+dy\n",
    "            if nx < 0 or nx >= n or ny < 0 or ny >= n:\n",
    "                continue\n",
    "            if 0 < a[nx][ny] > body or visited[nx][ny]:\n",
    "                continue\n",
    "            visited[nx][ny] = True\n",
    "            heappush(q, (nd, nx, ny))\n",
    "    print(ans)\n",
    "\n",
    "init()\n",
    "bfs()"
   ]
  }
 ],
 "metadata": {
  "kernelspec": {
   "display_name": "Python 3",
   "language": "python",
   "name": "python3"
  },
  "language_info": {
   "codemirror_mode": {
    "name": "ipython",
    "version": 3
   },
   "file_extension": ".py",
   "mimetype": "text/x-python",
   "name": "python",
   "nbconvert_exporter": "python",
   "pygments_lexer": "ipython3",
   "version": "3.8.0"
  }
 },
 "nbformat": 4,
 "nbformat_minor": 5
}
