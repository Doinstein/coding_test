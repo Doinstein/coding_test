{
 "cells": [
  {
   "cell_type": "code",
   "execution_count": null,
   "id": "b495402e",
   "metadata": {},
   "outputs": [],
   "source": [
    "# https://www.acmicpc.net/problem/16236"
   ]
  },
  {
   "cell_type": "code",
   "execution_count": null,
   "id": "f9d2ff55",
   "metadata": {},
   "outputs": [],
   "source": [
    "from heapq import heappush, heappop\n",
    "\n",
    "N = [list(map(int, input().split())) for _ in range(int(input()))]  # 공간\n",
    "q = []  # 힙 리스트\n",
    "\n",
    "def init():  # 상어 처음 위치 탐색\n",
    "    for i in range(n):\n",
    "        if 9 in a[i]:\n",
    "            heappush(q, (0, i, N[i].index(9)))  # 상어 위치 정보\n",
    "            N[i][N[i].index(9)] = 0  # 상어 위치 값 0으로 변경\n",
    "            return\n",
    "        \n",
    "def bfs():\n",
    "    size, eat, dist = 2,0,0  # 아기 상어 크기, 먹은 횟수, 이동거리(시간)\n",
    "    visited = [[False]*len(N) for _ in range(len(N))]\n",
    "    dx = (0,-1,1,0) # 행 이동\n",
    "    dy = (1,0,0,-1) # 열 이동\n",
    "\n",
    "    while q:\n",
    "        d,x,y = heappop(q)\n",
    "        if \n",
    "        \n",
    "        for i in range(4):  # 상-좌-우-하 순으로 탐색\n",
    "            nx = x + dx[i]\n",
    "            ny = y + dy[i]\n",
    "            nd = d += 1\n",
    "            if nx < 0 or nx >= len(N) or ny < 0 or ny >= len(N):\n",
    "                continue\n",
    "            if size < N[nx][ny] or visited[nx][ny]:\n",
    "                continue\n",
    "            visited[nx][ny] = True\n",
    "            heappush(q,(nd,nx,ny))\n",
    "    print()"
   ]
  },
  {
   "cell_type": "code",
   "execution_count": 69,
   "id": "51cee792",
   "metadata": {},
   "outputs": [
    {
     "name": "stdout",
     "output_type": "stream",
     "text": [
      "1\n"
     ]
    }
   ],
   "source": [
    "if True:\n",
    "    print(1)"
   ]
  },
  {
   "cell_type": "code",
   "execution_count": 67,
   "id": "24acb533",
   "metadata": {},
   "outputs": [
    {
     "data": {
      "text/plain": [
       "False"
      ]
     },
     "execution_count": 67,
     "metadata": {},
     "output_type": "execute_result"
    }
   ],
   "source": [
    "9 < a > 0"
   ]
  },
  {
   "cell_type": "code",
   "execution_count": 87,
   "id": "d135445e",
   "metadata": {
    "scrolled": true
   },
   "outputs": [
    {
     "name": "stdout",
     "output_type": "stream",
     "text": [
      "3\n",
      "0 0 1\n",
      "1 2 8\n",
      "8 9 0\n",
      "-------------------\n",
      "[(1, 1, 1), (1, 2, 2)]\n",
      "-------\n",
      "[(1, 2, 2), (2, 0, 1), (2, 1, 0), (2, 2, 1)]\n",
      "-------\n",
      "[(2, 0, 1), (2, 2, 1), (2, 1, 0)]\n",
      "-------\n",
      "[(2, 1, 0), (2, 2, 1), (3, 0, 0), (3, 0, 2)]\n",
      "-------\n",
      "(1,0)\n",
      "[(1, 0, 0), (1, 1, 1)]\n",
      "-------\n",
      "[(1, 1, 1), (2, 1, 0), (2, 0, 1)]\n",
      "-------\n",
      "[(2, 0, 1), (2, 1, 0), (2, 2, 1)]\n",
      "-------\n",
      "[(2, 1, 0), (2, 2, 1), (3, 0, 2)]\n",
      "-------\n",
      "[(2, 2, 1), (3, 0, 2)]\n",
      "-------\n",
      "[(3, 0, 2), (3, 2, 2)]\n",
      "-------\n",
      "(0,2)\n",
      "[(1, 0, 1)]\n",
      "-------\n",
      "[(2, 0, 0), (2, 1, 1), (2, 0, 2)]\n",
      "-------\n",
      "[(2, 0, 2), (2, 1, 1), (3, 1, 0)]\n",
      "-------\n",
      "[(2, 1, 1), (3, 1, 0)]\n",
      "-------\n",
      "(1,1)\n",
      "[(1, 0, 1), (1, 1, 0), (1, 2, 1)]\n",
      "-------\n",
      "[(1, 1, 0), (1, 2, 1), (2, 0, 0), (2, 1, 1), (2, 0, 2)]\n",
      "-------\n",
      "[(1, 2, 1), (2, 0, 2), (2, 0, 0), (2, 1, 1)]\n",
      "-------\n",
      "[(2, 0, 0), (2, 0, 2), (2, 1, 1), (2, 2, 2)]\n",
      "-------\n",
      "[(2, 0, 2), (2, 2, 2), (2, 1, 1)]\n",
      "-------\n",
      "[(2, 1, 1), (2, 2, 2)]\n",
      "-------\n",
      "[(2, 2, 2)]\n",
      "-------\n",
      "[]\n",
      "-------\n",
      "7\n"
     ]
    }
   ],
   "source": [
    "from heapq import heappush, heappop\n",
    "\n",
    "n = int(input())  # 공간크기\n",
    "a = [list(map(int, input().split())) for _ in range(n)]  # 공간정보\n",
    "q = []  # 힙 리스트 \n",
    "\n",
    "def init():  # 상어 처음 위치 탐색\n",
    "    for i in range(n):\n",
    "        if 9 in a[i]:\n",
    "            heappush(q, (0, i, a[i].index(9)))  # 상어 위치 정보(이동거리,행,열)\n",
    "            a[i][a[i].index(9)] = 0  # 상어 위치 값(9) 0으로 변경\n",
    "            return\n",
    "\n",
    "def bfs():\n",
    "    print('-------------------')\n",
    "    body, eat, ans = 2, 0, 0  # 상어크기, 먹은 횟수, 시간\n",
    "    visited = [[False]*n for _ in range(n)]  # 방문했던 위치 확인용 리스트\n",
    "    while q:\n",
    "        d, x, y = heappop(q)  # 최소 힙 출력(우선순위(최소시간),행,열)\n",
    "        if 0 < a[x][y] < body:  # 물고기가 상어보다 작은 경우\n",
    "            print(f'({x},{y})')\n",
    "            eat += 1  # 먹은 횟수 1 증가\n",
    "            a[x][y] = 0  # 현재 위치 0으로 변경\n",
    "            if eat == body:  # 먹은횟수와 상어크기가 같은 경우\n",
    "                body += 1  # 상어크기 1 증가\n",
    "                eat = 0  # 먹은 횟수 초기화\n",
    "            ans += d  # 시간(이동거리)에 최소시간 더하기\n",
    "            d = 0  # 시간(이동거리) 초기화\n",
    "            while q: # 최소 힙 제외 나머지 정보 초기화\n",
    "                q.pop()\n",
    "            visited = [[False]*n for _ in range(n)]\n",
    "        for dx, dy in (-1, 0), (0, -1), (1, 0), (0, 1):  # 상-하-좌-우 순으로 이동\n",
    "            nd, nx, ny = d+1, x+dx, y+dy  # 이동거리,다음 이동 위치\n",
    "            if nx < 0 or nx >= n or ny < 0 or ny >= n:  # 공간을 벗어난 경우 pass\n",
    "                continue\n",
    "            if a[nx][ny] > body or visited[nx][ny]:  # 상어보다 큰 물고기거나, 방문했던 위치인 경우 pass\n",
    "                continue\n",
    "            visited[nx][ny] = True  # 방문 위치 확인\n",
    "            heappush(q, (nd, nx, ny))  # 힙 리스트에 추가\n",
    "        print(q)\n",
    "        print('-------')\n",
    "    print(ans)\n",
    "\n",
    "init()\n",
    "bfs()"
   ]
  }
 ],
 "metadata": {
  "kernelspec": {
   "display_name": "Python 3",
   "language": "python",
   "name": "python3"
  },
  "language_info": {
   "codemirror_mode": {
    "name": "ipython",
    "version": 3
   },
   "file_extension": ".py",
   "mimetype": "text/x-python",
   "name": "python",
   "nbconvert_exporter": "python",
   "pygments_lexer": "ipython3",
   "version": "3.8.0"
  }
 },
 "nbformat": 4,
 "nbformat_minor": 5
}
