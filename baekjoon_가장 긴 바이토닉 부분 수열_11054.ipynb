{
 "cells": [
  {
   "cell_type": "code",
   "execution_count": 178,
   "id": "01551916",
   "metadata": {},
   "outputs": [
    {
     "name": "stdout",
     "output_type": "stream",
     "text": [
      "218922995834555169026\n"
     ]
    }
   ],
   "source": [
    "# DP테이블 초기화\n",
    "d = [0] * 100\n",
    "\n",
    "\n",
    "# 첫 번째 피보나치 수와 두 번째 피보나치 수는 1\n",
    "d[1] = 1\n",
    "d[2] = 1\n",
    "n = 99\n",
    "\n",
    "\n",
    "# 피보나치 함수 반복문으로 구현\n",
    "for i in range(3, n + 1):\n",
    "    d[i] = d[i - 1] + d[i - 2]\n",
    "\n",
    "\n",
    "print(d[n])"
   ]
  },
  {
   "cell_type": "code",
   "execution_count": 193,
   "id": "3abe8d68",
   "metadata": {
    "scrolled": true
   },
   "outputs": [
    {
     "name": "stdout",
     "output_type": "stream",
     "text": [
      "10\n",
      "1 2 5 4 3 5 4 5 4 2 1 3 4 3 2 1\n",
      "5\n"
     ]
    }
   ],
   "source": [
    "#증가\n",
    "x = int(input())\n",
    "\n",
    "arr = list(map(int, input().split()))\n",
    "\n",
    "dp = [1]*x\n",
    "\n",
    "for i in range(x):\n",
    "    #print(i)\n",
    "    for j in range(i):\n",
    "        if arr[i] > arr[j]:\n",
    "            dp[i] = max(dp[i], dp[j]+1)\n",
    "        #print(dp)\n",
    "\n",
    "print(max(dp))"
   ]
  },
  {
   "cell_type": "code",
   "execution_count": null,
   "id": "8f2ff082",
   "metadata": {},
   "outputs": [],
   "source": []
  },
  {
   "cell_type": "code",
   "execution_count": null,
   "id": "123c4074",
   "metadata": {},
   "outputs": [],
   "source": [
    "seq_size = int(input())\n",
    "sequence = list(map(int, input().split()))\n",
    "\n",
    "dp = [1] * seq_size  # 증가하는 부분 수열 길이\n",
    "dp2 = [1] * seq_size  # 감소하는 부분 수열 길이\n",
    "\n",
    "# 증가\n",
    "for i in range(seq_size):\n",
    "    for front in range(i):\n",
    "        if sequence[i] > sequence[front]:\n",
    "            dp[i] = max(dp[i], dp[front] + 1)\n",
    "\n",
    "# 감소\n",
    "for i in range(seq_size - 1, -1, -1):\n",
    "    for back in range(i + 1, seq_size):\n",
    "        if sequence[i] > sequence[back]:\n",
    "            dp2[i] = max(dp2[i], dp2[back] + 1)\n",
    "\n",
    "ans = []\n",
    "for a, b in zip(dp, dp2):\n",
    "    ans.append(a + b)\n",
    "\n",
    "print(max(ans) - 1)"
   ]
  }
 ],
 "metadata": {
  "kernelspec": {
   "display_name": "Python 3",
   "language": "python",
   "name": "python3"
  },
  "language_info": {
   "codemirror_mode": {
    "name": "ipython",
    "version": 3
   },
   "file_extension": ".py",
   "mimetype": "text/x-python",
   "name": "python",
   "nbconvert_exporter": "python",
   "pygments_lexer": "ipython3",
   "version": "3.8.0"
  }
 },
 "nbformat": 4,
 "nbformat_minor": 5
}
