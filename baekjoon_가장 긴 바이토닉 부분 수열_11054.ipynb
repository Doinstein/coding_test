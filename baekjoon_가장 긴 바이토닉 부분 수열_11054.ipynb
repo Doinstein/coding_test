{
 "cells": [
  {
   "cell_type": "code",
   "execution_count": null,
   "id": "692fea45",
   "metadata": {},
   "outputs": [],
   "source": [
    "# https://www.acmicpc.net/problem/11054"
   ]
  },
  {
   "cell_type": "code",
   "execution_count": null,
   "id": "630270ee",
   "metadata": {},
   "outputs": [],
   "source": [
    "# 수열 크기 \n",
    "N = int(input())\n",
    "\n",
    "# 수열\n",
    "A = list(map(int, input().split()))\n",
    "\n",
    "dp = [1] * N  # 증가하는 부분 수열 길이 초기화\n",
    "dp2 = [1] * N  # 감소하는 부분 수열 길이 초기화\n",
    "\n",
    "# 증가\n",
    "for i in range(N): \n",
    "    for front in range(i):\n",
    "        if A[i] > A[front]:  # i번째 수열(A)이 이전보다 큰 경우\n",
    "            dp[i] = max(dp[i], dp[front] + 1)\n",
    "\n",
    "# 감소\n",
    "for i in range(N - 1, -1, -1):  # N-1부터 0까지 -1씩 더하면서\n",
    "    for back in range(i + 1, N):  # i+1부터 N-1까지\n",
    "        if A[i] > A[back]:\n",
    "            dp2[i] = max(dp2[i], dp2[back] + 1)\n",
    "\n",
    "ans = []\n",
    "for a, b in zip(dp, dp2):\n",
    "    ans.append(a + b) # 증가하는 수열 길이 + 감소하는 수열 길이\n",
    "\n",
    "print(max(ans) - 1) # 가장 큰(증가하는 수열 길이 + 감소하는 수열 길이) - 중복값(1)"
   ]
  },
  {
   "cell_type": "code",
   "execution_count": null,
   "id": "e890f4bc",
   "metadata": {},
   "outputs": [],
   "source": [
    "# DP테이블 초기화\n",
    "d = [0] * 100\n",
    "\n",
    "\n",
    "# 첫 번째 피보나치 수와 두 번째 피보나치 수는 1\n",
    "d[1] = 1\n",
    "d[2] = 1\n",
    "n = 99\n",
    "\n",
    "\n",
    "# 피보나치 함수 반복문으로 구현\n",
    "for i in range(3, n + 1):\n",
    "    d[i] = d[i - 1] + d[i - 2]\n",
    "\n",
    "\n",
    "print(d[n])"
   ]
  }
 ],
 "metadata": {
  "kernelspec": {
   "display_name": "Python 3",
   "language": "python",
   "name": "python3"
  },
  "language_info": {
   "codemirror_mode": {
    "name": "ipython",
    "version": 3
   },
   "file_extension": ".py",
   "mimetype": "text/x-python",
   "name": "python",
   "nbconvert_exporter": "python",
   "pygments_lexer": "ipython3",
   "version": "3.8.0"
  }
 },
 "nbformat": 4,
 "nbformat_minor": 5
}
