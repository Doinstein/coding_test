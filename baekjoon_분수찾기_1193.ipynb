{
 "cells": [
  {
   "cell_type": "code",
   "execution_count": 70,
   "id": "69b8e911",
   "metadata": {},
   "outputs": [
    {
     "name": "stdout",
     "output_type": "stream",
     "text": [
      "14\n",
      "1/5\n"
     ]
    }
   ],
   "source": [
    "x = int(input())\n",
    "\n",
    "frame = []\n",
    "num = 1\n",
    "while num < x+1:\n",
    "    if num%2 == 0:\n",
    "        n = num\n",
    "        for i in range(1,num+1):\n",
    "            frame.append(str(i)+'/'+str(n))\n",
    "            n-=1\n",
    "    else:\n",
    "        n = num\n",
    "        for j in range(1,num+1):\n",
    "            frame.append(str(n)+'/'+str(j))\n",
    "            n-=1\n",
    "    num += 1\n",
    "\n",
    "print(frame[x])\n",
    "#시간초과"
   ]
  },
  {
   "cell_type": "code",
   "execution_count": 108,
   "id": "1b511d4e",
   "metadata": {},
   "outputs": [
    {
     "name": "stdout",
     "output_type": "stream",
     "text": [
      "14\n",
      "2/4\n"
     ]
    }
   ],
   "source": [
    "x = int(input())\n",
    "\n",
    "n = 0\n",
    "for i in range(1,x):\n",
    "    if n < x:\n",
    "        n = n+i\n",
    "    else:\n",
    "        num = i-1\n",
    "        n = n-num\n",
    "        break\n",
    "\n",
    "frame = [0]\n",
    "\n",
    "if num%2 ==0:\n",
    "    for i in range(1,num+1):\n",
    "        frame.append(str(i)+'/'+str(num))\n",
    "        num-=1\n",
    "else:\n",
    "    for j in range(1,num+1):\n",
    "        frame.append(str(num)+'/'+str(j))\n",
    "        num-=1\n",
    "        \n",
    "print(frame[x-n])"
   ]
  },
  {
   "cell_type": "code",
   "execution_count": 120,
   "id": "c5308eed",
   "metadata": {},
   "outputs": [
    {
     "name": "stdout",
     "output_type": "stream",
     "text": [
      "3\n",
      "2/1\n"
     ]
    }
   ],
   "source": [
    "X=int(input())\n",
    "\n",
    "line=1\n",
    "while X>line:\n",
    "    X-=line\n",
    "    line+=1\n",
    "    \n",
    "if line%2==0:\n",
    "    a=X\n",
    "    b=line-X+1\n",
    "else:\n",
    "    a=line-X+1\n",
    "    b=X\n",
    "    \n",
    "print(a, '/', b, sep='')"
   ]
  }
 ],
 "metadata": {
  "kernelspec": {
   "display_name": "Python 3",
   "language": "python",
   "name": "python3"
  },
  "language_info": {
   "codemirror_mode": {
    "name": "ipython",
    "version": 3
   },
   "file_extension": ".py",
   "mimetype": "text/x-python",
   "name": "python",
   "nbconvert_exporter": "python",
   "pygments_lexer": "ipython3",
   "version": "3.8.0"
  }
 },
 "nbformat": 4,
 "nbformat_minor": 5
}
