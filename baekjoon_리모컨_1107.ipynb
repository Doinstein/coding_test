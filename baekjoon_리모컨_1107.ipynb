{
 "cells": [
  {
   "cell_type": "code",
   "execution_count": null,
   "id": "04ff8e4c",
   "metadata": {},
   "outputs": [],
   "source": [
    "# 완전탐색"
   ]
  },
  {
   "cell_type": "code",
   "execution_count": 108,
   "id": "9ceb8f7a",
   "metadata": {},
   "outputs": [
    {
     "name": "stdout",
     "output_type": "stream",
     "text": [
      "80000\n",
      "2\n",
      "8 9\n",
      "2228\n"
     ]
    }
   ],
   "source": [
    "n = int(input()) # 0 ≤ n ≤ 500,000\n",
    "ans = abs(100 - n) # + 또는 -로 만 이동한 경우\n",
    "M = int(input()) # 고장난 버튼의 개수\n",
    "\n",
    "if M: # 고장난게 있을 경우만 인풋을 받음\n",
    "    broken = set(input().split()) # 고장난 버튼 리스트\n",
    "else:\n",
    "    broken = set()\n",
    "\n",
    "# 작은수에서 큰수로 이동할땐 500,000 까지만 보면 되지만\n",
    "# 반대로 큰수에서 작은수로 내려올수도 있으므로 1,000,000 까지 봐야함\n",
    "\n",
    "for num in range(1000001): \n",
    "    for N in str(num):\n",
    "        if N in broken: # 해당 숫자가 번호를 눌러서 만들 수 없는 경우엔 스탑\n",
    "            break\n",
    "    else: # 번호를 눌러서 만들 수 있는 경우엔\n",
    "        ans = min(ans, len(str(num)) + abs(num - n))\n",
    "            # min(기존답, 번호 누른 수 + 해당 번호로부터 타겟까지의 차이)\n",
    "print(ans)"
   ]
  },
  {
   "cell_type": "code",
   "execution_count": 109,
   "id": "c28d4d72",
   "metadata": {},
   "outputs": [
    {
     "name": "stdout",
     "output_type": "stream",
     "text": [
      "80000\n",
      "2\n",
      "8 9\n",
      "2228\n"
     ]
    }
   ],
   "source": [
    "n = int(input())\n",
    "ans = abs(100 - n)\n",
    "M = int(input())\n",
    "\n",
    "if M:\n",
    "    broken = set(input().split())\n",
    "else:\n",
    "    broken = []\n",
    "\n",
    "for num in range(1000001): \n",
    "    for N in str(num):\n",
    "        if N in broken:\n",
    "            break\n",
    "    else:\n",
    "        ans = min(ans, len(str(num)) + abs(num - n))\n",
    "        \n",
    "print(ans)"
   ]
  }
 ],
 "metadata": {
  "kernelspec": {
   "display_name": "Python 3 (ipykernel)",
   "language": "python",
   "name": "python3"
  },
  "language_info": {
   "codemirror_mode": {
    "name": "ipython",
    "version": 3
   },
   "file_extension": ".py",
   "mimetype": "text/x-python",
   "name": "python",
   "nbconvert_exporter": "python",
   "pygments_lexer": "ipython3",
   "version": "3.9.12"
  }
 },
 "nbformat": 4,
 "nbformat_minor": 5
}
