{
 "cells": [
  {
   "cell_type": "code",
   "execution_count": 1,
   "id": "f5273015",
   "metadata": {},
   "outputs": [],
   "source": [
    "id_list =[\"muzi\", \"frodo\", \"apeach\", \"neo\"]\n",
    "report = [\"muzi frodo\", \"apeach frodo\", \"frodo neo\", \"muzi neo\", \"apeach muzi\"]\n",
    "k = 2"
   ]
  },
  {
   "cell_type": "code",
   "execution_count": 8,
   "id": "8b670697",
   "metadata": {},
   "outputs": [],
   "source": [
    "def solution(id_list, report, k):\n",
    "    answer = [0] * len(id_list)   # 리턴 값으로 유저 순서별 결과값 출력을 위한 인덱스 사용을 위해 유저 수 만큼의 리스트 생성\n",
    "    reports = {x : 0 for x in id_list}   # 유저별 신고당한 수를 나타내기 위해 딕셔너리 생성\n",
    "    \n",
    "    for r in set(report):   # 중복된 신고는 제외하기 때문에 리스트에서 중복 값 제거(set함수)\n",
    "        reports[r.split()[1]] += 1\n",
    "        # 신고 유저(첫 이름)와 신고 당한 유저(뒷 이름)를 나누어(split) reports['신고당한유저']에 신고 횟수 1 추가\n",
    "        \n",
    "    for r in set(report):\n",
    "        if reports[r.split()[1]] >= k:  # 신고 당한 횟수가 지정 수(k) 이상 넘어 갈 경우\n",
    "            answer[id_list.index(r.split()[0])] += 1\n",
    "            # (answer) 인덱스에 유저 리스트(id_list)에 신고한 유저(r.split()[0])를 넣어 인덱스 번호를 받아 신고 결과를 받는 유저의 수를 1 추가\n",
    "    return answer"
   ]
  }
 ],
 "metadata": {
  "kernelspec": {
   "display_name": "Python 3",
   "language": "python",
   "name": "python3"
  },
  "language_info": {
   "codemirror_mode": {
    "name": "ipython",
    "version": 3
   },
   "file_extension": ".py",
   "mimetype": "text/x-python",
   "name": "python",
   "nbconvert_exporter": "python",
   "pygments_lexer": "ipython3",
   "version": "3.8.0"
  }
 },
 "nbformat": 4,
 "nbformat_minor": 5
}
