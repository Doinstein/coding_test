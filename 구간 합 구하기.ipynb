{
 "cells": [
  {
   "cell_type": "markdown",
   "id": "88d016dc",
   "metadata": {},
   "source": [
    "https://www.acmicpc.net/problem/2042"
   ]
  },
  {
   "cell_type": "code",
   "execution_count": null,
   "id": "76b6be6b",
   "metadata": {},
   "outputs": [],
   "source": [
    "5 2 2\n",
    "1\n",
    "2\n",
    "3\n",
    "4\n",
    "5\n",
    "1 3 6\n",
    "2 2 5\n",
    "1 5 2\n",
    "2 3 5"
   ]
  },
  {
   "cell_type": "code",
   "execution_count": 12,
   "id": "fde0293b",
   "metadata": {},
   "outputs": [
    {
     "ename": "SyntaxError",
     "evalue": "unexpected EOF while parsing (<ipython-input-12-aa456a71e40d>, line 13)",
     "output_type": "error",
     "traceback": [
      "\u001b[0;36m  File \u001b[0;32m\"<ipython-input-12-aa456a71e40d>\"\u001b[0;36m, line \u001b[0;32m13\u001b[0m\n\u001b[0;31m    \u001b[0m\n\u001b[0m    ^\u001b[0m\n\u001b[0;31mSyntaxError\u001b[0m\u001b[0;31m:\u001b[0m unexpected EOF while parsing\n"
     ]
    }
   ],
   "source": [
    "def solution():\n",
    "    N, M, K = map(int, input().split())\n",
    "    num_list = []\n",
    "    for i in range(n):\n",
    "        num_list.append(int(input()))\n",
    "        \n",
    "    for j in range(M+K):\n",
    "        a,b,c = map(int, input().split())\n",
    "        if a == 1:\n",
    "            num_list[b] = c\n",
    "        if a == 2:\n",
    "            print(sum(num_list[b:c])\n",
    "    "
   ]
  },
  {
   "cell_type": "code",
   "execution_count": 25,
   "id": "48dbbbb5",
   "metadata": {
    "scrolled": true
   },
   "outputs": [
    {
     "name": "stdout",
     "output_type": "stream",
     "text": [
      "5 2 2\n",
      "1\n",
      "2\n",
      "3\n",
      "4\n",
      "5\n",
      "1 3 6\n",
      "[1, 2, 6, 4, 5]\n",
      "2 2 5\n",
      "[1, 2, 6, 4, 5]\n",
      "17\n",
      "1 5 2\n",
      "[1, 2, 6, 4, 2]\n",
      "2 3 5\n",
      "[1, 2, 6, 4, 2]\n",
      "12\n"
     ]
    }
   ],
   "source": [
    "N, M, K = map(int, input().split())\n",
    "num_list = []\n",
    "for i in range(N):\n",
    "    num_list.append(int(input()))\n",
    "\n",
    "for j in range(M+K):\n",
    "    a,b,c = map(int, input().split())\n",
    "    if a == 1:\n",
    "        num_list[b-1] = c\n",
    "    if a == 2:\n",
    "        print(sum(num_list[b-1:c]))"
   ]
  },
  {
   "cell_type": "code",
   "execution_count": null,
   "id": "590f2d89",
   "metadata": {},
   "outputs": [],
   "source": []
  }
 ],
 "metadata": {
  "kernelspec": {
   "display_name": "Python 3",
   "language": "python",
   "name": "python3"
  },
  "language_info": {
   "codemirror_mode": {
    "name": "ipython",
    "version": 3
   },
   "file_extension": ".py",
   "mimetype": "text/x-python",
   "name": "python",
   "nbconvert_exporter": "python",
   "pygments_lexer": "ipython3",
   "version": "3.8.0"
  }
 },
 "nbformat": 4,
 "nbformat_minor": 5
}
