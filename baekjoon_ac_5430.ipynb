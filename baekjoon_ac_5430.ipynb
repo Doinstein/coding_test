{
 "cells": [
  {
   "cell_type": "code",
   "execution_count": null,
   "id": "e1b0d6c6",
   "metadata": {},
   "outputs": [],
   "source": [
    "from collections import deque\n",
    "\n",
    "t = int(input())\n",
    "\n",
    "for _ in range(t):\n",
    "    ac = input()\n",
    "    n = int(input())\n",
    "    arr = deque(input()[1:-1].split(','))\n",
    "    cnt = 0\n",
    "    flag = False\n",
    "    if n<1:\n",
    "        arr = deque()\n",
    "    for x in ac:\n",
    "        if x == 'R':\n",
    "            cnt += 1\n",
    "        elif x == 'D':\n",
    "            if not arr:\n",
    "                print('error')\n",
    "                flag = True\n",
    "                break\n",
    "            else:\n",
    "                if cnt%2 ==0:\n",
    "                    arr.popleft()\n",
    "                else:\n",
    "                    arr.pop()\n",
    "    if not flag:                \n",
    "        if cnt%2 == 0:\n",
    "            print('['+','.join(arr)+']')\n",
    "        else:\n",
    "            arr.reverse()\n",
    "            print('['+','.join(arr)+']')"
   ]
  }
 ],
 "metadata": {
  "kernelspec": {
   "display_name": "Python 3 (ipykernel)",
   "language": "python",
   "name": "python3"
  },
  "language_info": {
   "codemirror_mode": {
    "name": "ipython",
    "version": 3
   },
   "file_extension": ".py",
   "mimetype": "text/x-python",
   "name": "python",
   "nbconvert_exporter": "python",
   "pygments_lexer": "ipython3",
   "version": "3.9.12"
  }
 },
 "nbformat": 4,
 "nbformat_minor": 5
}
