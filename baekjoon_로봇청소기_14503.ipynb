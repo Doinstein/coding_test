{
 "cells": [
  {
   "cell_type": "code",
   "execution_count": 157,
   "id": "b95d6107",
   "metadata": {},
   "outputs": [
    {
     "name": "stdout",
     "output_type": "stream",
     "text": [
      "11 10\n",
      "7 4 0\n",
      "57\n"
     ]
    }
   ],
   "source": [
    "n,m = map(int,(input().split(' ')))\n",
    "x,y,d = map(int, input().split(' '))\n",
    "matrix = [list(map(int,input().split(' '))) for _ in range(n)]\n",
    "\n",
    "dx = [-1, 0, 1, 0]\n",
    "dy = [0, 1, 0, -1]\n",
    "\n",
    "ans = 1\n",
    "matrix[x][y] = 2\n",
    "\n",
    "while True:\n",
    "    flag = 0\n",
    "    for _ in range(4):\n",
    "        d = (d+3)%4 # 핵심 방향을 유지하며 왼쪽으로 돌기\n",
    "        nx = x+dx[d]\n",
    "        ny = y+dy[d]\n",
    "        if 0<=nx<n and 0<=ny<m and matrix[nx][ny] == 0:\n",
    "            matrix[nx][ny] = 2\n",
    "            ans += 1\n",
    "            x = nx\n",
    "            y = ny\n",
    "            flag = 1\n",
    "            break # 이동 했기 때문에 4방향 탐색 for문 정지\n",
    "    if flag == 0:\n",
    "        if matrix[x-dx[d]][y-dy[d]] == 1:\n",
    "            print(ans)\n",
    "            break # 더 이상 청소할 곳이 없기 때문에 while 종료\n",
    "        else:\n",
    "            x,y = x-dx[d],y-dy[d]"
   ]
  }
 ],
 "metadata": {
  "kernelspec": {
   "display_name": "Python 3 (ipykernel)",
   "language": "python",
   "name": "python3"
  },
  "language_info": {
   "codemirror_mode": {
    "name": "ipython",
    "version": 3
   },
   "file_extension": ".py",
   "mimetype": "text/x-python",
   "name": "python",
   "nbconvert_exporter": "python",
   "pygments_lexer": "ipython3",
   "version": "3.9.12"
  }
 },
 "nbformat": 4,
 "nbformat_minor": 5
}
