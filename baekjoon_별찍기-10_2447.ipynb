{
 "cells": [
  {
   "cell_type": "code",
   "execution_count": null,
   "id": "eb3cbe94",
   "metadata": {},
   "outputs": [],
   "source": [
    "# https://www.acmicpc.net/problem/2447"
   ]
  },
  {
   "cell_type": "code",
   "execution_count": 1,
   "id": "b65e18f5",
   "metadata": {},
   "outputs": [
    {
     "name": "stdout",
     "output_type": "stream",
     "text": [
      "27\n",
      "***************************\n",
      "* ** ** ** ** ** ** ** ** *\n",
      "***************************\n",
      "***   ******   ******   ***\n",
      "* *   * ** *   * ** *   * *\n",
      "***   ******   ******   ***\n",
      "***************************\n",
      "* ** ** ** ** ** ** ** ** *\n",
      "***************************\n",
      "*********         *********\n",
      "* ** ** *         * ** ** *\n",
      "*********         *********\n",
      "***   ***         ***   ***\n",
      "* *   * *         * *   * *\n",
      "***   ***         ***   ***\n",
      "*********         *********\n",
      "* ** ** *         * ** ** *\n",
      "*********         *********\n",
      "***************************\n",
      "* ** ** ** ** ** ** ** ** *\n",
      "***************************\n",
      "***   ******   ******   ***\n",
      "* *   * ** *   * ** *   * *\n",
      "***   ******   ******   ***\n",
      "***************************\n",
      "* ** ** ** ** ** ** ** ** *\n",
      "***************************\n"
     ]
    }
   ],
   "source": [
    "n = int(input())\n",
    "\n",
    "def get_stars(stars):  # 재귀함수\n",
    "    temp = []  # 임시 리스트 생성\n",
    "    for i in range(3*len(stars)):  # 3등분 * 반복구간개수\n",
    "        if i//len(stars) == 1: # 3등분 중 가운데 구간인 경우\n",
    "            temp.append(stars[i%len(stars)]+(' '*len(stars))+stars[i%len(stars)])  # 반복구간 + 빈 공간 + 반복구간\n",
    "        else:\n",
    "            temp.append(stars[i%len(stars)]*3)  # 반복구간 * 3\n",
    "    return temp  #  임시 리스트 반환\n",
    "        \n",
    "stars = ['***','* *','***']  # 초기 모양 설정\n",
    "k=0  # 반복 횟수\n",
    "\n",
    "while n!=3:  # 반복 횟수 구하기\n",
    "    n = int(n/3)  # n이 3이 될 때 까지 n은 3으로 나눠준 값을 다시 n값으로 지정하고 k 1씩 추가\n",
    "    k +=1\n",
    "\n",
    "for i in range(k):  # k번 반복\n",
    "    stars = get_stars(stars)  # 재귀함수 - stars에 새로운 리스트(계산된) 입력\n",
    "for i in stars:\n",
    "    print(i)  # 최종 리스트 출력"
   ]
  }
 ],
 "metadata": {
  "kernelspec": {
   "display_name": "Python 3",
   "language": "python",
   "name": "python3"
  },
  "language_info": {
   "codemirror_mode": {
    "name": "ipython",
    "version": 3
   },
   "file_extension": ".py",
   "mimetype": "text/x-python",
   "name": "python",
   "nbconvert_exporter": "python",
   "pygments_lexer": "ipython3",
   "version": "3.8.0"
  }
 },
 "nbformat": 4,
 "nbformat_minor": 5
}
