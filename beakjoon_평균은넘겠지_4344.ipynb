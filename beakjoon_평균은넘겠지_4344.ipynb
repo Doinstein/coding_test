{
 "cells": [
  {
   "cell_type": "code",
   "execution_count": 149,
   "id": "6b99e591",
   "metadata": {},
   "outputs": [
    {
     "name": "stdout",
     "output_type": "stream",
     "text": [
      "2\n",
      "9 100 99 98 97 96 95 94 93 91\n",
      "55.556%\n",
      "9 100 99 98 97 96 95 94 93 91\n",
      "55.556%\n"
     ]
    }
   ],
   "source": [
    "for _ in range(int(input())):\n",
    "    n = list(map(int,input().split(' ')))\n",
    "    n_list = sorted(n[1:])\n",
    "    n_count = n[0]\n",
    "    n_mean = sum(n_list)/n_count\n",
    "    for i in range(len(n_list)):\n",
    "        if n_list[i] > n_mean:\n",
    "            print(f'{len(n_list[i:])/n_count*100:.3f}%')\n",
    "            break"
   ]
  },
  {
   "cell_type": "code",
   "execution_count": null,
   "id": "5ae1032a",
   "metadata": {},
   "outputs": [],
   "source": [
    "num = int(input())\n",
    "\n",
    "for _ in range(num):\n",
    "    scores = list(map(int, input().split()))\n",
    "    avg = sum(scores[1:])/scores[0]\n",
    "    \n",
    "    cnt = 0\n",
    "    for i in scores[1:]:\n",
    "        if i > avg:\n",
    "            cnt += 1\n",
    "            \n",
    "    per = (cnt/scores[0])*100\n",
    "    print('%.3f' %per + '%')"
   ]
  }
 ],
 "metadata": {
  "kernelspec": {
   "display_name": "Python 3",
   "language": "python",
   "name": "python3"
  },
  "language_info": {
   "codemirror_mode": {
    "name": "ipython",
    "version": 3
   },
   "file_extension": ".py",
   "mimetype": "text/x-python",
   "name": "python",
   "nbconvert_exporter": "python",
   "pygments_lexer": "ipython3",
   "version": "3.8.0"
  }
 },
 "nbformat": 4,
 "nbformat_minor": 5
}
