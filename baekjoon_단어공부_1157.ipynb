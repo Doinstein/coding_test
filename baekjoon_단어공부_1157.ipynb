{
 "cells": [
  {
   "cell_type": "code",
   "execution_count": 121,
   "id": "76353de1",
   "metadata": {},
   "outputs": [
    {
     "name": "stdout",
     "output_type": "stream",
     "text": [
      "baaaaa\n",
      "A\n"
     ]
    }
   ],
   "source": [
    "word = input().upper()\n",
    "word_unique = list(set(word))\n",
    "word_count = []\n",
    "for i in word_unique:\n",
    "    word_count.append(word.count(i))\n",
    "\n",
    "if word_count.count(max(word_count)) >1:\n",
    "    print('?')\n",
    "else:\n",
    "    index = word_count.index(max(word_count))\n",
    "    print(word_unique[index])"
   ]
  }
 ],
 "metadata": {
  "kernelspec": {
   "display_name": "Python 3",
   "language": "python",
   "name": "python3"
  },
  "language_info": {
   "codemirror_mode": {
    "name": "ipython",
    "version": 3
   },
   "file_extension": ".py",
   "mimetype": "text/x-python",
   "name": "python",
   "nbconvert_exporter": "python",
   "pygments_lexer": "ipython3",
   "version": "3.8.0"
  }
 },
 "nbformat": 4,
 "nbformat_minor": 5
}
