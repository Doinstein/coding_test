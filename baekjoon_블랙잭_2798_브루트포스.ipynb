{
 "cells": [
  {
   "cell_type": "code",
   "execution_count": 43,
   "id": "d67e6c8e",
   "metadata": {},
   "outputs": [
    {
     "name": "stdout",
     "output_type": "stream",
     "text": [
      "10 500\n",
      "93 181 245 214 315 36 185 138 216 295\n",
      "497\n"
     ]
    }
   ],
   "source": [
    "n,m = map(int,input().split(' '))\n",
    "n_list = list(map(int,input().split(' ')))\n",
    "\n",
    "temp = []\n",
    "for i in range(n):\n",
    "    for j in range(1,n):\n",
    "        if i != j:\n",
    "            for k in range(2,n):\n",
    "                if i != k and j != k:\n",
    "                    t = n_list[i]+n_list[j]+n_list[k]\n",
    "                    if t <= m:\n",
    "                        temp.append(n_list[i]+n_list[j]+n_list[k])\n",
    "print(max(temp))"
   ]
  }
 ],
 "metadata": {
  "kernelspec": {
   "display_name": "Python 3",
   "language": "python",
   "name": "python3"
  },
  "language_info": {
   "codemirror_mode": {
    "name": "ipython",
    "version": 3
   },
   "file_extension": ".py",
   "mimetype": "text/x-python",
   "name": "python",
   "nbconvert_exporter": "python",
   "pygments_lexer": "ipython3",
   "version": "3.8.0"
  }
 },
 "nbformat": 4,
 "nbformat_minor": 5
}
