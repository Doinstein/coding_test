{
 "cells": [
  {
   "cell_type": "code",
   "execution_count": 30,
   "id": "8482b722",
   "metadata": {},
   "outputs": [
    {
     "name": "stdout",
     "output_type": "stream",
     "text": [
      "71\n",
      "12\n"
     ]
    }
   ],
   "source": [
    "while True:\n",
    "    x = int(input())\n",
    "    if 0 > x or x > 99:\n",
    "        print('0~99 숫자를 입력해주세요')\n",
    "    else:\n",
    "        break\n",
    "        \n",
    "stack = 0\n",
    "x1 = x\n",
    "y = 0\n",
    "\n",
    "while y==0:\n",
    "    if x1 < 10:\n",
    "        x1 = int(str(x1)+str(x1))\n",
    "        stack += 1\n",
    "    else:\n",
    "        x2 = int(str(x1)[0])+int(str(x1)[1])\n",
    "        if x2 < 10:\n",
    "            x1 = int(str(x1)[1]+str(x2))\n",
    "        else:\n",
    "            x1 = int(str(x1)[1]+str(x2)[1])\n",
    "        stack += 1\n",
    "    if x1 == x:\n",
    "        print(stack)\n",
    "        y=1"
   ]
  },
  {
   "cell_type": "markdown",
   "id": "8abc19a4",
   "metadata": {},
   "source": [
    "26 > 4\n",
    "55 > 3\n",
    "1 > 60\n",
    "0 > 1\n",
    "71 > 12"
   ]
  },
  {
   "cell_type": "code",
   "execution_count": 44,
   "id": "f59a74bf",
   "metadata": {},
   "outputs": [
    {
     "name": "stdout",
     "output_type": "stream",
     "text": [
      "71\n",
      "12\n"
     ]
    }
   ],
   "source": [
    "while True:\n",
    "    x = int(input())\n",
    "    if 0 > x or x > 99:\n",
    "        print('0~99 숫자를 입력해주세요')\n",
    "    else:\n",
    "        break\n",
    "x1 = x\n",
    "stack = 0\n",
    "y = 0\n",
    "while y ==0:\n",
    "    x1 = int(\n",
    "        str(x1%10)+str(int((x1//10)+(x1%10))%10)\n",
    "    )\n",
    "    stack += 1\n",
    "    if x1 == x:\n",
    "        print(stack)\n",
    "        y = 1"
   ]
  }
 ],
 "metadata": {
  "kernelspec": {
   "display_name": "Python 3",
   "language": "python",
   "name": "python3"
  },
  "language_info": {
   "codemirror_mode": {
    "name": "ipython",
    "version": 3
   },
   "file_extension": ".py",
   "mimetype": "text/x-python",
   "name": "python",
   "nbconvert_exporter": "python",
   "pygments_lexer": "ipython3",
   "version": "3.8.0"
  }
 },
 "nbformat": 4,
 "nbformat_minor": 5
}
