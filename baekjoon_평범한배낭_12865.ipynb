{
 "cells": [
  {
   "cell_type": "code",
   "execution_count": null,
   "id": "ec90ed78",
   "metadata": {},
   "outputs": [],
   "source": [
    "# https://www.acmicpc.net/problem/12865"
   ]
  },
  {
   "cell_type": "code",
   "execution_count": null,
   "id": "851fde7c",
   "metadata": {},
   "outputs": [],
   "source": [
    "# 냅색 알고리즘\n",
    "\n",
    "n,k = map(int, input().split(' '))  # n: item 개수, k: 최대 무게\n",
    "item = []\n",
    "for _ in range(n):  # item 정보 추가\n",
    "    item.append(list(map(int,input().split(' '))))\n",
    "# 이전 값과 비교 하기 위해 n,k 보다 1 크게 생성                    # 값 : v\n",
    "knapsack = [[0 for _ in range(k+1)] for _ in range(n+1)]  # 열 index: 가방 무게 범위(1~k)\n",
    "                                                          # 행 index: item\n",
    "\n",
    "for i in range(1,n+1):\n",
    "    for j in range(1,k+1):\n",
    "        w,v = item[i-1]  # 기준 item weight, value\n",
    "        if j < w:\n",
    "            knapsack[i][j] = knapsack[i - 1][j]  # w보다 작으면 위의 값(v)을 그대로 가져온다\n",
    "        else:\n",
    "            knapsack[i][j] = max(v + knapsack[i - 1][j - w], knapsack[i - 1][j])\n",
    "                                                                                    \n",
    "print(knapsack[n][k])"
   ]
  }
 ],
 "metadata": {
  "kernelspec": {
   "display_name": "Python 3",
   "language": "python",
   "name": "python3"
  },
  "language_info": {
   "codemirror_mode": {
    "name": "ipython",
    "version": 3
   },
   "file_extension": ".py",
   "mimetype": "text/x-python",
   "name": "python",
   "nbconvert_exporter": "python",
   "pygments_lexer": "ipython3",
   "version": "3.8.0"
  }
 },
 "nbformat": 4,
 "nbformat_minor": 5
}
